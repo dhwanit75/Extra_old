{
 "cells": [
  {
   "cell_type": "code",
   "execution_count": 1,
   "id": "polyphonic-microwave",
   "metadata": {
    "execution": {
     "iopub.execute_input": "2021-06-27T18:25:28.683722Z",
     "iopub.status.busy": "2021-06-27T18:25:28.683057Z",
     "iopub.status.idle": "2021-06-27T18:25:28.868690Z",
     "shell.execute_reply": "2021-06-27T18:25:28.867068Z",
     "shell.execute_reply.started": "2021-06-26T17:28:54.578922Z"
    },
    "id": "9-4F7hHjIx_L",
    "outputId": "b6628d1f-0b1b-49d0-cc23-36ab9150c00b",
    "papermill": {
     "duration": 0.225985,
     "end_time": "2021-06-27T18:25:28.869020",
     "exception": false,
     "start_time": "2021-06-27T18:25:28.643035",
     "status": "completed"
    },
    "tags": []
   },
   "outputs": [
    {
     "name": "stdout",
     "output_type": "stream",
     "text": [
      "       MONTH  DAY_OF_MONTH  DAY_OF_WEEK OP_UNIQUE_CARRIER TAIL_NUM DEST  \\\n",
      "0         11             1            5                B6   N828JB  CHS   \n",
      "1         11             1            5                B6   N992JB  LAX   \n",
      "2         11             1            5                B6   N959JB  FLL   \n",
      "3         11             1            5                B6   N999JQ  MCO   \n",
      "4         11             1            5                DL   N880DN  ATL   \n",
      "...      ...           ...          ...               ...      ...  ...   \n",
      "28815      1            31            5                B6   N216JB  ORH   \n",
      "28816      1            31            5                AA   N104NN  BOS   \n",
      "28817      1            31            5                AS   N581AS  SEA   \n",
      "28818      1            31            5                B6   N957JB  SJU   \n",
      "28819      1            31            5                B6   N958JB  BQN   \n",
      "\n",
      "       DEP_DELAY  CRS_ELAPSED_TIME  DISTANCE  CRS_DEP_M  ...  Dew Point  \\\n",
      "0             -1               124       636        324  ...         34   \n",
      "1             -7               371      2475        340  ...         34   \n",
      "2             40               181      1069        301  ...         34   \n",
      "3             -2               168       944        345  ...         34   \n",
      "4             -4               139       760        360  ...         32   \n",
      "...          ...               ...       ...        ...  ...        ...   \n",
      "28815          2                57       150       1370  ...         38   \n",
      "28816          2                75       187       1390  ...         38   \n",
      "28817        283               392      2422       1125  ...         38   \n",
      "28818          5               224      1598       1417  ...         38   \n",
      "28819         -1               225      1576       1439  ...         38   \n",
      "\n",
      "       Humidity  Wind Wind Speed  Wind Gust Pressure     Condition  sch_dep  \\\n",
      "0            58     W         25         38    29.86  Fair / Windy        9   \n",
      "1            58     W         25         38    29.86  Fair / Windy        9   \n",
      "2            58     W         25         38    29.86  Fair / Windy        9   \n",
      "3            58     W         25         38    29.86  Fair / Windy        9   \n",
      "4            58     W         24         35    29.91  Fair / Windy        9   \n",
      "...         ...   ...        ...        ...      ...           ...      ...   \n",
      "28815        96     N          6          0    30.18        Cloudy       20   \n",
      "28816        96     N          6          0    30.18        Cloudy       19   \n",
      "28817        96     N          6          0    30.18        Cloudy       19   \n",
      "28818        96     N          6          0    30.18        Cloudy       19   \n",
      "28819        96     N          6          0    30.18        Cloudy       19   \n",
      "\n",
      "       sch_arr TAXI_OUT  \n",
      "0           17       14  \n",
      "1           17       15  \n",
      "2           17       22  \n",
      "3           17       12  \n",
      "4           17       13  \n",
      "...        ...      ...  \n",
      "28815       32       19  \n",
      "28816       23       22  \n",
      "28817       23       21  \n",
      "28818       23       13  \n",
      "28819       23       15  \n",
      "\n",
      "[28820 rows x 23 columns]\n"
     ]
    }
   ],
   "source": [
    "\n",
    "import pandas as pd\n",
    "import io\n",
    "\n",
    "  \n",
    "df=pd.read_csv(\"../input/flight-take-off-data-jfk-airport/M1_final.csv\")\n",
    "print(df)"
   ]
  },
  {
   "cell_type": "code",
   "execution_count": 2,
   "id": "handled-teacher",
   "metadata": {
    "execution": {
     "iopub.execute_input": "2021-06-27T18:25:28.935965Z",
     "iopub.status.busy": "2021-06-27T18:25:28.934880Z",
     "iopub.status.idle": "2021-06-27T18:25:58.719469Z",
     "shell.execute_reply": "2021-06-27T18:25:58.718479Z",
     "shell.execute_reply.started": "2021-06-26T17:28:54.751708Z"
    },
    "id": "PLlrZVLWOkn6",
    "outputId": "00de0b97-de2a-4960-ba79-5b1834eabc9a",
    "papermill": {
     "duration": 29.820387,
     "end_time": "2021-06-27T18:25:58.719636",
     "exception": false,
     "start_time": "2021-06-27T18:25:28.899249",
     "status": "completed"
    },
    "tags": []
   },
   "outputs": [
    {
     "name": "stdout",
     "output_type": "stream",
     "text": [
      "(27095, 22) (27095,)\n"
     ]
    }
   ],
   "source": [
    "#for i in range(df.shape[0]):\n",
    " # if()\n",
    "#print( type(df[0]))\n",
    "df1=df.copy(deep=True)\n",
    "for i in range(df.shape[0]):\n",
    "  s=str(df.iloc[[i],13])\n",
    "  for x in s :\n",
    "      if x =='\\xa0':\n",
    "        df1.drop(i,axis=0,inplace=True)\n",
    "        break\n",
    "for i in range(df.shape[0]):\n",
    "  s=int(df.iloc[[i],13])\n",
    "  \n",
    "data=df1.values\n",
    "X,Y=data[:,:-1],data[:,-1]\n",
    "print(X.shape,Y.shape)\n",
    "from sklearn.model_selection import train_test_split"
   ]
  },
  {
   "cell_type": "code",
   "execution_count": 3,
   "id": "straight-remainder",
   "metadata": {
    "execution": {
     "iopub.execute_input": "2021-06-27T18:25:58.791892Z",
     "iopub.status.busy": "2021-06-27T18:25:58.791179Z",
     "iopub.status.idle": "2021-06-27T18:25:58.854741Z",
     "shell.execute_reply": "2021-06-27T18:25:58.854170Z",
     "shell.execute_reply.started": "2021-06-26T17:29:23.132091Z"
    },
    "id": "g5Mp_4jdml07",
    "papermill": {
     "duration": 0.105544,
     "end_time": "2021-06-27T18:25:58.854888",
     "exception": false,
     "start_time": "2021-06-27T18:25:58.749344",
     "status": "completed"
    },
    "tags": []
   },
   "outputs": [],
   "source": [
    "from sklearn import preprocessing as pre\n",
    "#import numpy as np\n",
    "\n",
    "label=pre.LabelEncoder()\n",
    "X[:,3]=label.fit_transform(X[:,3].astype(str))\n",
    "X[:,4]=label.fit_transform(X[:,4].astype(str))\n",
    "X[:,5]=label.fit_transform(X[:,5].astype(str))\n",
    "X[:,15]=label.fit_transform(X[:,15].astype(str))\n",
    "X[:,19]=label.fit_transform(X[:,19].astype(str))\n",
    "X[:,13]=label.fit_transform(X[:,13].astype(str))"
   ]
  },
  {
   "cell_type": "code",
   "execution_count": 4,
   "id": "heated-facial",
   "metadata": {
    "execution": {
     "iopub.execute_input": "2021-06-27T18:25:58.953868Z",
     "iopub.status.busy": "2021-06-27T18:25:58.953204Z",
     "iopub.status.idle": "2021-06-27T18:25:58.959716Z",
     "shell.execute_reply": "2021-06-27T18:25:58.959208Z",
     "shell.execute_reply.started": "2021-06-26T17:29:23.193539Z"
    },
    "id": "nbWE1704TVpu",
    "outputId": "ddf5045f-4eb6-419f-ed53-52174a84cd91",
    "papermill": {
     "duration": 0.075594,
     "end_time": "2021-06-27T18:25:58.959866",
     "exception": false,
     "start_time": "2021-06-27T18:25:58.884272",
     "status": "completed"
    },
    "tags": []
   },
   "outputs": [
    {
     "name": "stdout",
     "output_type": "stream",
     "text": [
      "(24385, 22) (2710, 22) (24385,) (2710,)\n"
     ]
    }
   ],
   "source": [
    "X_train,X_test,Y_train,Y_test=train_test_split(X,Y,test_size=0.10)\n",
    "print(X_train.shape,X_test.shape,Y_train.shape,Y_test.shape)\n"
   ]
  },
  {
   "cell_type": "code",
   "execution_count": 5,
   "id": "featured-louisiana",
   "metadata": {
    "execution": {
     "iopub.execute_input": "2021-06-27T18:25:59.025289Z",
     "iopub.status.busy": "2021-06-27T18:25:59.024651Z",
     "iopub.status.idle": "2021-06-27T18:25:59.027859Z",
     "shell.execute_reply": "2021-06-27T18:25:59.027349Z",
     "shell.execute_reply.started": "2021-06-26T17:35:01.704521Z"
    },
    "id": "wyZj3wHpzcxU",
    "outputId": "ea0d4e31-a85e-4270-fa8d-d4f902e47aa4",
    "papermill": {
     "duration": 0.038517,
     "end_time": "2021-06-27T18:25:59.027995",
     "exception": false,
     "start_time": "2021-06-27T18:25:58.989478",
     "status": "completed"
    },
    "tags": []
   },
   "outputs": [],
   "source": [
    "import numpy as np\n",
    "msel=np.empty(8,dtype=float)\n"
   ]
  },
  {
   "cell_type": "markdown",
   "id": "mediterranean-candidate",
   "metadata": {
    "id": "Of21wu6EXTxs",
    "papermill": {
     "duration": 0.029564,
     "end_time": "2021-06-27T18:25:59.087617",
     "exception": false,
     "start_time": "2021-06-27T18:25:59.058053",
     "status": "completed"
    },
    "tags": []
   },
   "source": [
    "## 1. Linear Regression with Label Encoding\n"
   ]
  },
  {
   "cell_type": "code",
   "execution_count": 6,
   "id": "angry-ending",
   "metadata": {
    "execution": {
     "iopub.execute_input": "2021-06-27T18:25:59.152191Z",
     "iopub.status.busy": "2021-06-27T18:25:59.151537Z",
     "iopub.status.idle": "2021-06-27T18:25:59.351763Z",
     "shell.execute_reply": "2021-06-27T18:25:59.350779Z",
     "shell.execute_reply.started": "2021-06-26T17:29:24.6152Z"
    },
    "id": "2CsfMxvAWyrU",
    "outputId": "2f29b7b6-366f-4aad-b752-f5fade6ffcde",
    "papermill": {
     "duration": 0.234893,
     "end_time": "2021-06-27T18:25:59.351976",
     "exception": false,
     "start_time": "2021-06-27T18:25:59.117083",
     "status": "completed"
    },
    "tags": []
   },
   "outputs": [
    {
     "name": "stdout",
     "output_type": "stream",
     "text": [
      "6.481647798635636\n"
     ]
    }
   ],
   "source": [
    "from sklearn.linear_model import LinearRegression\n",
    "from sklearn.metrics import mean_squared_error\n",
    "lreg=LinearRegression()\n",
    "lreg.fit(X_train,Y_train)\n",
    "pred=lreg.predict(X_test)\n",
    "msel[0]=mean_squared_error(Y_test,pred)**0.5\n",
    "print(msel[0])"
   ]
  },
  {
   "cell_type": "markdown",
   "id": "annual-guitar",
   "metadata": {
    "id": "4KIEpj8caVca",
    "papermill": {
     "duration": 0.032614,
     "end_time": "2021-06-27T18:25:59.509185",
     "exception": false,
     "start_time": "2021-06-27T18:25:59.476571",
     "status": "completed"
    },
    "tags": []
   },
   "source": [
    "## 2. Ridge Regression  with Label Encoding"
   ]
  },
  {
   "cell_type": "code",
   "execution_count": 7,
   "id": "personal-conspiracy",
   "metadata": {
    "execution": {
     "iopub.execute_input": "2021-06-27T18:25:59.619675Z",
     "iopub.status.busy": "2021-06-27T18:25:59.618721Z",
     "iopub.status.idle": "2021-06-27T18:25:59.651862Z",
     "shell.execute_reply": "2021-06-27T18:25:59.653565Z",
     "shell.execute_reply.started": "2021-06-26T17:29:24.720968Z"
    },
    "id": "5aUDnh93aupF",
    "outputId": "7cf222d3-0311-46ad-d01e-01e6f292641a",
    "papermill": {
     "duration": 0.115102,
     "end_time": "2021-06-27T18:25:59.654028",
     "exception": false,
     "start_time": "2021-06-27T18:25:59.538926",
     "status": "completed"
    },
    "tags": []
   },
   "outputs": [
    {
     "name": "stdout",
     "output_type": "stream",
     "text": [
      "6.4935047923289115\n"
     ]
    }
   ],
   "source": [
    "from sklearn.linear_model import Ridge\n",
    "ridgereg=Ridge(alpha=0.05, normalize=True)\n",
    "ridgereg.fit(X_train,Y_train)\n",
    "pred1=ridgereg.predict(X_test)\n",
    "msel[1]=mean_squared_error(Y_test,pred1)**0.5\n",
    "print(msel[1])"
   ]
  },
  {
   "cell_type": "markdown",
   "id": "educational-emerald",
   "metadata": {
    "id": "ktVCE8EfGueg",
    "papermill": {
     "duration": 0.056036,
     "end_time": "2021-06-27T18:25:59.768446",
     "exception": false,
     "start_time": "2021-06-27T18:25:59.712410",
     "status": "completed"
    },
    "tags": []
   },
   "source": [
    "## 3. Lasso Regression with Label Encoding"
   ]
  },
  {
   "cell_type": "code",
   "execution_count": 8,
   "id": "expected-detroit",
   "metadata": {
    "execution": {
     "iopub.execute_input": "2021-06-27T18:25:59.887700Z",
     "iopub.status.busy": "2021-06-27T18:25:59.886734Z",
     "iopub.status.idle": "2021-06-27T18:25:59.926395Z",
     "shell.execute_reply": "2021-06-27T18:25:59.925191Z",
     "shell.execute_reply.started": "2021-06-26T17:29:24.832595Z"
    },
    "id": "hr3SX4mqG3Lm",
    "outputId": "aac466e3-decc-411d-9271-5cd9e9e53300",
    "papermill": {
     "duration": 0.123613,
     "end_time": "2021-06-27T18:25:59.926658",
     "exception": false,
     "start_time": "2021-06-27T18:25:59.803045",
     "status": "completed"
    },
    "tags": []
   },
   "outputs": [
    {
     "name": "stdout",
     "output_type": "stream",
     "text": [
      "6.830074618379034\n"
     ]
    }
   ],
   "source": [
    "from sklearn.linear_model import Lasso\n",
    "lasreg=Lasso(alpha=0.05, normalize=True)\n",
    "lasreg.fit(X_train,Y_train)\n",
    "pred2=lasreg.predict(X_test)\n",
    "msel[2]=mean_squared_error(Y_test,pred2)**0.5\n",
    "print(msel[2])"
   ]
  },
  {
   "cell_type": "markdown",
   "id": "inclusive-grammar",
   "metadata": {
    "id": "g555BVnj83K3",
    "papermill": {
     "duration": 0.033069,
     "end_time": "2021-06-27T18:26:00.081637",
     "exception": false,
     "start_time": "2021-06-27T18:26:00.048568",
     "status": "completed"
    },
    "tags": []
   },
   "source": [
    "## 4. KNN Regression with Label Encoding"
   ]
  },
  {
   "cell_type": "code",
   "execution_count": 9,
   "id": "alleged-registration",
   "metadata": {
    "execution": {
     "iopub.execute_input": "2021-06-27T18:26:00.148127Z",
     "iopub.status.busy": "2021-06-27T18:26:00.147514Z",
     "iopub.status.idle": "2021-06-27T18:26:01.799265Z",
     "shell.execute_reply": "2021-06-27T18:26:01.798353Z",
     "shell.execute_reply.started": "2021-06-26T17:29:24.9608Z"
    },
    "id": "Ro_hxnSE9Mt8",
    "outputId": "a821dbe8-342a-423a-dd10-ff81cf59cd3b",
    "papermill": {
     "duration": 1.68729,
     "end_time": "2021-06-27T18:26:01.799437",
     "exception": false,
     "start_time": "2021-06-27T18:26:00.112147",
     "status": "completed"
    },
    "tags": []
   },
   "outputs": [
    {
     "name": "stdout",
     "output_type": "stream",
     "text": [
      "6.657470624095994\n"
     ]
    }
   ],
   "source": [
    "from sklearn.neighbors import KNeighborsRegressor\n",
    "knnr=KNeighborsRegressor(n_neighbors=200)\n",
    "knnr.fit(X_train,Y_train)\n",
    "pred3=knnr.predict(X_test)\n",
    "msel[3]=mean_squared_error(Y_test,pred3)**0.5\n",
    "print(msel[3])"
   ]
  },
  {
   "cell_type": "markdown",
   "id": "herbal-lithuania",
   "metadata": {
    "id": "yIL6p9GXAv0c",
    "papermill": {
     "duration": 0.030529,
     "end_time": "2021-06-27T18:26:01.860581",
     "exception": false,
     "start_time": "2021-06-27T18:26:01.830052",
     "status": "completed"
    },
    "tags": []
   },
   "source": [
    "## 5. Support Vector Regression with Label Encoding"
   ]
  },
  {
   "cell_type": "code",
   "execution_count": 10,
   "id": "flexible-hotel",
   "metadata": {
    "execution": {
     "iopub.execute_input": "2021-06-27T18:26:01.928352Z",
     "iopub.status.busy": "2021-06-27T18:26:01.927685Z",
     "iopub.status.idle": "2021-06-27T18:26:48.992107Z",
     "shell.execute_reply": "2021-06-27T18:26:48.992621Z",
     "shell.execute_reply.started": "2021-06-26T17:29:26.475187Z"
    },
    "id": "hyKctXa4A4xh",
    "outputId": "b2b3bf86-0476-4fc0-de8d-1ab84ed7498b",
    "papermill": {
     "duration": 47.101493,
     "end_time": "2021-06-27T18:26:48.992801",
     "exception": false,
     "start_time": "2021-06-27T18:26:01.891308",
     "status": "completed"
    },
    "tags": []
   },
   "outputs": [
    {
     "name": "stdout",
     "output_type": "stream",
     "text": [
      "6.290559699754802\n"
     ]
    }
   ],
   "source": [
    "from sklearn.svm import SVR\n",
    "from sklearn.preprocessing import StandardScaler\n",
    "sc1=StandardScaler()\n",
    "sc2=StandardScaler()\n",
    "x1=X_train.copy()\n",
    "x2=X_test.copy()\n",
    "x1=sc1.fit_transform(x1)\n",
    "x2=sc2.fit_transform(x2)\n",
    "svr=SVR()\n",
    "svr.fit(x1,Y_train)\n",
    "pred4=svr.predict(x2)\n",
    "msel[4]=mean_squared_error(Y_test,pred4)**0.5\n",
    "print(msel[4])"
   ]
  },
  {
   "cell_type": "markdown",
   "id": "seven-running",
   "metadata": {
    "id": "JThQ08SiJPs8",
    "papermill": {
     "duration": 0.030719,
     "end_time": "2021-06-27T18:26:49.055835",
     "exception": false,
     "start_time": "2021-06-27T18:26:49.025116",
     "status": "completed"
    },
    "tags": []
   },
   "source": [
    "## 6. Random Forest with Label Encoding \n",
    "\n",
    "\n"
   ]
  },
  {
   "cell_type": "code",
   "execution_count": 11,
   "id": "documented-objective",
   "metadata": {
    "execution": {
     "iopub.execute_input": "2021-06-27T18:26:49.124046Z",
     "iopub.status.busy": "2021-06-27T18:26:49.123294Z",
     "iopub.status.idle": "2021-06-27T18:27:17.685079Z",
     "shell.execute_reply": "2021-06-27T18:27:17.685624Z",
     "shell.execute_reply.started": "2021-06-26T17:30:11.832015Z"
    },
    "id": "X-DagbHaJeix",
    "outputId": "2102305c-5001-405b-d3ed-e0fddc0e7e61",
    "papermill": {
     "duration": 28.599055,
     "end_time": "2021-06-27T18:27:17.685818",
     "exception": false,
     "start_time": "2021-06-27T18:26:49.086763",
     "status": "completed"
    },
    "tags": []
   },
   "outputs": [
    {
     "name": "stdout",
     "output_type": "stream",
     "text": [
      "5.6733293198928365\n"
     ]
    }
   ],
   "source": [
    "from sklearn.ensemble import RandomForestRegressor\n",
    "rand=RandomForestRegressor()\n",
    "rand.fit(X_train,Y_train)\n",
    "pred5=rand.predict(X_test)\n",
    "msel[5]=mean_squared_error(Y_test,pred5)**0.5\n",
    "print(msel[5])"
   ]
  },
  {
   "cell_type": "markdown",
   "id": "quantitative-footwear",
   "metadata": {
    "id": "HKjfwEKuRa33",
    "papermill": {
     "duration": 0.03505,
     "end_time": "2021-06-27T18:27:17.757250",
     "exception": false,
     "start_time": "2021-06-27T18:27:17.722200",
     "status": "completed"
    },
    "tags": []
   },
   "source": [
    "## 7. Light GBM model with Label Encoding\n"
   ]
  },
  {
   "cell_type": "code",
   "execution_count": 12,
   "id": "analyzed-gambling",
   "metadata": {
    "execution": {
     "iopub.execute_input": "2021-06-27T18:27:17.824965Z",
     "iopub.status.busy": "2021-06-27T18:27:17.824283Z",
     "iopub.status.idle": "2021-06-27T18:27:19.325833Z",
     "shell.execute_reply": "2021-06-27T18:27:19.326494Z",
     "shell.execute_reply.started": "2021-06-26T17:30:38.701624Z"
    },
    "id": "DZ50Pf1SRbIv",
    "outputId": "22a63cd7-143e-48bf-837b-70032ec80316",
    "papermill": {
     "duration": 1.538675,
     "end_time": "2021-06-27T18:27:19.326686",
     "exception": false,
     "start_time": "2021-06-27T18:27:17.788011",
     "status": "completed"
    },
    "tags": []
   },
   "outputs": [
    {
     "data": {
      "text/html": [
       "<style type='text/css'>\n",
       ".datatable table.frame { margin-bottom: 0; }\n",
       ".datatable table.frame thead { border-bottom: none; }\n",
       ".datatable table.frame tr.coltypes td {  color: #FFFFFF;  line-height: 6px;  padding: 0 0.5em;}\n",
       ".datatable .bool    { background: #DDDD99; }\n",
       ".datatable .object  { background: #565656; }\n",
       ".datatable .int     { background: #5D9E5D; }\n",
       ".datatable .float   { background: #4040CC; }\n",
       ".datatable .str     { background: #CC4040; }\n",
       ".datatable .row_index {  background: var(--jp-border-color3);  border-right: 1px solid var(--jp-border-color0);  color: var(--jp-ui-font-color3);  font-size: 9px;}\n",
       ".datatable .frame tr.coltypes .row_index {  background: var(--jp-border-color0);}\n",
       ".datatable th:nth-child(2) { padding-left: 12px; }\n",
       ".datatable .hellipsis {  color: var(--jp-cell-editor-border-color);}\n",
       ".datatable .vellipsis {  background: var(--jp-layout-color0);  color: var(--jp-cell-editor-border-color);}\n",
       ".datatable .na {  color: var(--jp-cell-editor-border-color);  font-size: 80%;}\n",
       ".datatable .footer { font-size: 9px; }\n",
       ".datatable .frame_dimensions {  background: var(--jp-border-color3);  border-top: 1px solid var(--jp-border-color0);  color: var(--jp-ui-font-color3);  display: inline-block;  opacity: 0.6;  padding: 1px 10px 1px 5px;}\n",
       "</style>\n"
      ],
      "text/plain": [
       "<IPython.core.display.HTML object>"
      ]
     },
     "metadata": {},
     "output_type": "display_data"
    },
    {
     "name": "stdout",
     "output_type": "stream",
     "text": [
      "5.792786411785913\n"
     ]
    }
   ],
   "source": [
    "from lightgbm import LGBMRegressor\n",
    "lgbm=LGBMRegressor()\n",
    "lgbm.fit(X_train,Y_train)\n",
    "pred6=lgbm.predict(X_test)\n",
    "msel[6]=mean_squared_error(Y_test,pred6)**0.5\n",
    "print(msel[6])"
   ]
  },
  {
   "cell_type": "markdown",
   "id": "leading-grounds",
   "metadata": {
    "id": "ZJTZ7Ezjbvph",
    "papermill": {
     "duration": 0.031423,
     "end_time": "2021-06-27T18:27:19.392540",
     "exception": false,
     "start_time": "2021-06-27T18:27:19.361117",
     "status": "completed"
    },
    "tags": []
   },
   "source": [
    "## 8. Naive Bayes (Bayesian Ridge) with Label Encoding"
   ]
  },
  {
   "cell_type": "code",
   "execution_count": 13,
   "id": "threatened-prisoner",
   "metadata": {
    "execution": {
     "iopub.execute_input": "2021-06-27T18:27:19.509132Z",
     "iopub.status.busy": "2021-06-27T18:27:19.508244Z",
     "iopub.status.idle": "2021-06-27T18:27:19.571513Z",
     "shell.execute_reply": "2021-06-27T18:27:19.570196Z",
     "shell.execute_reply.started": "2021-06-26T17:30:39.177795Z"
    },
    "id": "gvuquMIJbuLs",
    "outputId": "c4ce03e0-2b6c-488a-8314-e2e6e8ad14f0",
    "papermill": {
     "duration": 0.145754,
     "end_time": "2021-06-27T18:27:19.571764",
     "exception": false,
     "start_time": "2021-06-27T18:27:19.426010",
     "status": "completed"
    },
    "tags": []
   },
   "outputs": [
    {
     "name": "stdout",
     "output_type": "stream",
     "text": [
      "6.489008300880598\n"
     ]
    }
   ],
   "source": [
    "from sklearn.linear_model import BayesianRidge\n",
    "bayreg=BayesianRidge()\n",
    "bayreg.fit(X_train,Y_train)\n",
    "pred7=bayreg.predict(X_test)\n",
    "msel[7]=mean_squared_error(Y_test,pred7)**0.5\n",
    "print(msel[7])"
   ]
  },
  {
   "cell_type": "markdown",
   "id": "quarterly-lingerie",
   "metadata": {
    "id": "ESyRwSzyZ38t",
    "papermill": {
     "duration": 0.050288,
     "end_time": "2021-06-27T18:27:19.716898",
     "exception": false,
     "start_time": "2021-06-27T18:27:19.666610",
     "status": "completed"
    },
    "tags": []
   },
   "source": [
    "## One Hot Encoding"
   ]
  },
  {
   "cell_type": "code",
   "execution_count": 14,
   "id": "compact-disclosure",
   "metadata": {
    "execution": {
     "iopub.execute_input": "2021-06-27T18:27:19.813138Z",
     "iopub.status.busy": "2021-06-27T18:27:19.812092Z",
     "iopub.status.idle": "2021-06-27T18:27:20.194947Z",
     "shell.execute_reply": "2021-06-27T18:27:20.195706Z",
     "shell.execute_reply.started": "2021-06-26T17:30:39.283306Z"
    },
    "id": "c7B6riogZ9YV",
    "outputId": "e4e9e366-dfce-462b-df83-6154947f1608",
    "papermill": {
     "duration": 0.439824,
     "end_time": "2021-06-27T18:27:20.195945",
     "exception": false,
     "start_time": "2021-06-27T18:27:19.756121",
     "status": "completed"
    },
    "tags": []
   },
   "outputs": [
    {
     "name": "stdout",
     "output_type": "stream",
     "text": [
      "(27095, 24)\n",
      "(27095, 54)\n",
      "(27095, 60)\n",
      "(27095, 68)\n",
      "(27095, 132)\n",
      "(27095, 150)\n",
      "(27095, 173)\n"
     ]
    }
   ],
   "source": [
    "from sklearn.preprocessing import OneHotEncoder\n",
    "from sklearn.compose import ColumnTransformer\n",
    "ohe=OneHotEncoder()\n",
    "trainx=X.copy()\n",
    "\n",
    "cols=[0,1,2,3,4,5,15,19]\n",
    "#hotenc=ohe.fit_transform(testx)\n",
    "coltrans=ColumnTransformer([(\"encoder\",OneHotEncoder(),[0])],remainder=\"passthrough\")\n",
    "trainx=np.array(coltrans.fit_transform(trainx),dtype=np.int)\n",
    "print(trainx.shape)\n",
    "coltrans=ColumnTransformer([(\"encoder\",OneHotEncoder(),[3])],remainder=\"passthrough\")\n",
    "trainx=np.array(coltrans.fit_transform(trainx),dtype=np.int)\n",
    "print(trainx.shape)\n",
    "coltrans=ColumnTransformer([(\"encoder\",OneHotEncoder(),[34])],remainder=\"passthrough\")\n",
    "trainx=np.array(coltrans.fit_transform(trainx),dtype=np.int)\n",
    "print(trainx.shape)\n",
    "coltrans=ColumnTransformer([(\"encoder\",OneHotEncoder(),[41])],remainder=\"passthrough\")\n",
    "trainx=np.array(coltrans.fit_transform(trainx),dtype=np.int)\n",
    "print(trainx.shape)\n",
    "coltrans=ColumnTransformer([(\"encoder\",OneHotEncoder(),[51])],remainder=\"passthrough\")\n",
    "trainx=np.array(coltrans.fit_transform(trainx),dtype=np.int)\n",
    "print(trainx.shape)\n",
    "coltrans=ColumnTransformer([(\"encoder\",OneHotEncoder(),[125])],remainder=\"passthrough\")\n",
    "trainx=np.array(coltrans.fit_transform(trainx),dtype=np.int)\n",
    "print(trainx.shape)\n",
    "coltrans=ColumnTransformer([(\"encoder\",OneHotEncoder(),[147])],remainder=\"passthrough\")\n",
    "trainx=np.array(coltrans.fit_transform(trainx),dtype=np.int)\n",
    "print(trainx.shape)\n",
    "\n",
    "#with np.printoptions(threshold=np.inf):\n",
    " #  print(trainx)"
   ]
  },
  {
   "cell_type": "code",
   "execution_count": 15,
   "id": "disabled-phrase",
   "metadata": {
    "execution": {
     "iopub.execute_input": "2021-06-27T18:27:20.270776Z",
     "iopub.status.busy": "2021-06-27T18:27:20.269473Z",
     "iopub.status.idle": "2021-06-27T18:27:20.293437Z",
     "shell.execute_reply": "2021-06-27T18:27:20.293980Z",
     "shell.execute_reply.started": "2021-06-26T17:30:39.732596Z"
    },
    "id": "xZBe2B-uleFO",
    "outputId": "1fb669ba-0543-496c-b542-d6f27adb4f73",
    "papermill": {
     "duration": 0.064434,
     "end_time": "2021-06-27T18:27:20.294149",
     "exception": false,
     "start_time": "2021-06-27T18:27:20.229715",
     "status": "completed"
    },
    "tags": []
   },
   "outputs": [
    {
     "name": "stdout",
     "output_type": "stream",
     "text": [
      "(24385, 173) (2710, 173) (24385,) (2710,)\n"
     ]
    }
   ],
   "source": [
    "X_train,X_test,Y_train,Y_test=train_test_split(trainx,Y,test_size=0.10)\n",
    "print(X_train.shape,X_test.shape,Y_train.shape,Y_test.shape)\n",
    "mseh=np.empty(8,dtype=float)"
   ]
  },
  {
   "cell_type": "markdown",
   "id": "pleased-inspector",
   "metadata": {
    "id": "LZLqVcUFxjFU",
    "papermill": {
     "duration": 0.033039,
     "end_time": "2021-06-27T18:27:20.360867",
     "exception": false,
     "start_time": "2021-06-27T18:27:20.327828",
     "status": "completed"
    },
    "tags": []
   },
   "source": [
    "## 1. Linear Regression with One Hot Encoding\n"
   ]
  },
  {
   "cell_type": "code",
   "execution_count": 16,
   "id": "equipped-traveler",
   "metadata": {
    "execution": {
     "iopub.execute_input": "2021-06-27T18:27:20.436659Z",
     "iopub.status.busy": "2021-06-27T18:27:20.435932Z",
     "iopub.status.idle": "2021-06-27T18:27:20.661116Z",
     "shell.execute_reply": "2021-06-27T18:27:20.662207Z",
     "shell.execute_reply.started": "2021-06-26T17:30:39.762407Z"
    },
    "id": "oG_Zt2UMoEdR",
    "outputId": "3dbffe42-e3c5-40ad-c0c8-ed8034532a12",
    "papermill": {
     "duration": 0.268463,
     "end_time": "2021-06-27T18:27:20.662506",
     "exception": false,
     "start_time": "2021-06-27T18:27:20.394043",
     "status": "completed"
    },
    "tags": []
   },
   "outputs": [
    {
     "name": "stdout",
     "output_type": "stream",
     "text": [
      "6.299370314858608\n"
     ]
    }
   ],
   "source": [
    "from sklearn.linear_model import LinearRegression\n",
    "from sklearn.metrics import mean_squared_error\n",
    "lreg=LinearRegression()\n",
    "lreg.fit(X_train,Y_train)\n",
    "pred=lreg.predict(X_test)\n",
    "mseh[0]=mean_squared_error(Y_test,pred)**0.5\n",
    "print(mseh[0])"
   ]
  },
  {
   "cell_type": "markdown",
   "id": "alpha-illness",
   "metadata": {
    "id": "K1z4eb3OxvPq",
    "papermill": {
     "duration": 0.03388,
     "end_time": "2021-06-27T18:27:20.818666",
     "exception": false,
     "start_time": "2021-06-27T18:27:20.784786",
     "status": "completed"
    },
    "tags": []
   },
   "source": [
    "## 2. Ridge Regression with One Hot Encoding"
   ]
  },
  {
   "cell_type": "code",
   "execution_count": 17,
   "id": "adapted-model",
   "metadata": {
    "execution": {
     "iopub.execute_input": "2021-06-27T18:27:20.893381Z",
     "iopub.status.busy": "2021-06-27T18:27:20.892750Z",
     "iopub.status.idle": "2021-06-27T18:27:20.994278Z",
     "shell.execute_reply": "2021-06-27T18:27:20.995259Z",
     "shell.execute_reply.started": "2021-06-26T17:30:39.988987Z"
    },
    "id": "yPXgVTqRoIbI",
    "outputId": "dee0e80d-0275-4e03-e366-59fc39b01512",
    "papermill": {
     "duration": 0.141724,
     "end_time": "2021-06-27T18:27:20.995519",
     "exception": false,
     "start_time": "2021-06-27T18:27:20.853795",
     "status": "completed"
    },
    "tags": []
   },
   "outputs": [
    {
     "name": "stdout",
     "output_type": "stream",
     "text": [
      "6.3007442230763795\n"
     ]
    }
   ],
   "source": [
    "from sklearn.linear_model import Ridge\n",
    "ridgereg=Ridge(alpha=0.05, normalize=True)\n",
    "ridgereg.fit(X_train,Y_train)\n",
    "pred1=ridgereg.predict(X_test)\n",
    "mseh[1]=mean_squared_error(Y_test,pred1)**0.5\n",
    "print(mseh[1])"
   ]
  },
  {
   "cell_type": "markdown",
   "id": "finite-sheep",
   "metadata": {
    "id": "MMM5KpMcxz75",
    "papermill": {
     "duration": 0.035291,
     "end_time": "2021-06-27T18:27:21.142362",
     "exception": false,
     "start_time": "2021-06-27T18:27:21.107071",
     "status": "completed"
    },
    "tags": []
   },
   "source": [
    "## 3. Lasso Regression with One Hot Encoding"
   ]
  },
  {
   "cell_type": "code",
   "execution_count": 18,
   "id": "smaller-interval",
   "metadata": {
    "execution": {
     "iopub.execute_input": "2021-06-27T18:27:21.216491Z",
     "iopub.status.busy": "2021-06-27T18:27:21.215810Z",
     "iopub.status.idle": "2021-06-27T18:27:21.305794Z",
     "shell.execute_reply": "2021-06-27T18:27:21.306747Z",
     "shell.execute_reply.started": "2021-06-26T17:30:40.156046Z"
    },
    "id": "0mya1eDDoLjK",
    "outputId": "1cd204ee-cc99-4d0e-a248-71224192035a",
    "papermill": {
     "duration": 0.130379,
     "end_time": "2021-06-27T18:27:21.306996",
     "exception": false,
     "start_time": "2021-06-27T18:27:21.176617",
     "status": "completed"
    },
    "tags": []
   },
   "outputs": [
    {
     "name": "stdout",
     "output_type": "stream",
     "text": [
      "6.820339944372796\n"
     ]
    }
   ],
   "source": [
    "from sklearn.linear_model import Lasso\n",
    "lasreg=Lasso(alpha=0.05, normalize=True)\n",
    "lasreg.fit(X_train,Y_train)\n",
    "pred2=lasreg.predict(X_test)\n",
    "mseh[2]=mean_squared_error(Y_test,pred2)**0.5\n",
    "print(mseh[2])"
   ]
  },
  {
   "cell_type": "markdown",
   "id": "dedicated-vault",
   "metadata": {
    "id": "Mzf743zEyIpr",
    "papermill": {
     "duration": 0.051436,
     "end_time": "2021-06-27T18:27:21.432632",
     "exception": false,
     "start_time": "2021-06-27T18:27:21.381196",
     "status": "completed"
    },
    "tags": []
   },
   "source": [
    "## 4. KNN regression with One Hot Encoding"
   ]
  },
  {
   "cell_type": "code",
   "execution_count": 19,
   "id": "animal-newfoundland",
   "metadata": {
    "execution": {
     "iopub.execute_input": "2021-06-27T18:27:21.509830Z",
     "iopub.status.busy": "2021-06-27T18:27:21.508490Z",
     "iopub.status.idle": "2021-06-27T18:27:23.120336Z",
     "shell.execute_reply": "2021-06-27T18:27:23.119366Z",
     "shell.execute_reply.started": "2021-06-26T17:30:40.28683Z"
    },
    "id": "ZEJDh6ANoP1h",
    "outputId": "dc53afa2-c21b-4c0b-8f46-cbdc9d204787",
    "papermill": {
     "duration": 1.653564,
     "end_time": "2021-06-27T18:27:23.120513",
     "exception": false,
     "start_time": "2021-06-27T18:27:21.466949",
     "status": "completed"
    },
    "tags": []
   },
   "outputs": [
    {
     "name": "stdout",
     "output_type": "stream",
     "text": [
      "6.686042338982874\n"
     ]
    }
   ],
   "source": [
    "from sklearn.neighbors import KNeighborsRegressor\n",
    "knnr=KNeighborsRegressor(n_neighbors=200)\n",
    "knnr.fit(X_train,Y_train)\n",
    "pred3=knnr.predict(X_test)\n",
    "mseh[3]=mean_squared_error(Y_test,pred3)**0.5\n",
    "print(mseh[3])"
   ]
  },
  {
   "cell_type": "markdown",
   "id": "demographic-client",
   "metadata": {
    "id": "Mhyftu8cyP6X",
    "papermill": {
     "duration": 0.034486,
     "end_time": "2021-06-27T18:27:23.190540",
     "exception": false,
     "start_time": "2021-06-27T18:27:23.156054",
     "status": "completed"
    },
    "tags": []
   },
   "source": [
    "## 5. Support Vector Regression with One Hot Encoding"
   ]
  },
  {
   "cell_type": "code",
   "execution_count": 20,
   "id": "encouraging-finding",
   "metadata": {
    "execution": {
     "iopub.execute_input": "2021-06-27T18:27:23.267213Z",
     "iopub.status.busy": "2021-06-27T18:27:23.266505Z",
     "iopub.status.idle": "2021-06-27T18:29:39.589758Z",
     "shell.execute_reply": "2021-06-27T18:29:39.590253Z",
     "shell.execute_reply.started": "2021-06-26T17:30:42.010527Z"
    },
    "id": "qPhq5da4oVp5",
    "outputId": "5b80d3e0-c378-48dc-d0c0-24d284547071",
    "papermill": {
     "duration": 136.36544,
     "end_time": "2021-06-27T18:29:39.590449",
     "exception": false,
     "start_time": "2021-06-27T18:27:23.225009",
     "status": "completed"
    },
    "tags": []
   },
   "outputs": [
    {
     "name": "stdout",
     "output_type": "stream",
     "text": [
      "6.235577995411054\n"
     ]
    }
   ],
   "source": [
    "from sklearn.svm import SVR\n",
    "from sklearn.preprocessing import StandardScaler\n",
    "sc1=StandardScaler()\n",
    "sc2=StandardScaler()\n",
    "x1=X_train.copy()\n",
    "x2=X_test.copy()\n",
    "x1=sc1.fit_transform(x1)\n",
    "x2=sc2.fit_transform(x2)\n",
    "svr=SVR()\n",
    "svr.fit(x1,Y_train)\n",
    "pred4=svr.predict(x2)\n",
    "mseh[4]=mean_squared_error(Y_test,pred4)**0.5\n",
    "print(mseh[4])"
   ]
  },
  {
   "cell_type": "markdown",
   "id": "intellectual-joshua",
   "metadata": {
    "id": "3Fu8E__EycJ5",
    "papermill": {
     "duration": 0.034461,
     "end_time": "2021-06-27T18:29:39.659540",
     "exception": false,
     "start_time": "2021-06-27T18:29:39.625079",
     "status": "completed"
    },
    "tags": []
   },
   "source": [
    "## 6. Random Forest Regression with One Hot Encoding"
   ]
  },
  {
   "cell_type": "code",
   "execution_count": 21,
   "id": "collected-charlotte",
   "metadata": {
    "execution": {
     "iopub.execute_input": "2021-06-27T18:29:39.734859Z",
     "iopub.status.busy": "2021-06-27T18:29:39.734148Z",
     "iopub.status.idle": "2021-06-27T18:30:35.823205Z",
     "shell.execute_reply": "2021-06-27T18:30:35.823732Z",
     "shell.execute_reply.started": "2021-06-26T17:32:54.23863Z"
    },
    "id": "M4CRjvfxoYxn",
    "outputId": "d2fc5a41-503c-4846-ddd9-2d7c34b0ab35",
    "papermill": {
     "duration": 56.129575,
     "end_time": "2021-06-27T18:30:35.823906",
     "exception": false,
     "start_time": "2021-06-27T18:29:39.694331",
     "status": "completed"
    },
    "tags": []
   },
   "outputs": [
    {
     "name": "stdout",
     "output_type": "stream",
     "text": [
      "5.61899344244795\n"
     ]
    }
   ],
   "source": [
    "from sklearn.ensemble import RandomForestRegressor\n",
    "rand=RandomForestRegressor()\n",
    "rand.fit(X_train,Y_train)\n",
    "pred5=rand.predict(X_test)\n",
    "mseh[5]=mean_squared_error(Y_test,pred5)**0.5\n",
    "print(mseh[5])"
   ]
  },
  {
   "cell_type": "markdown",
   "id": "trained-reference",
   "metadata": {
    "id": "dmzhhDLmylWR",
    "papermill": {
     "duration": 0.034819,
     "end_time": "2021-06-27T18:30:35.893854",
     "exception": false,
     "start_time": "2021-06-27T18:30:35.859035",
     "status": "completed"
    },
    "tags": []
   },
   "source": [
    "## 7. Light GBM model with One Hot Encoding"
   ]
  },
  {
   "cell_type": "code",
   "execution_count": 22,
   "id": "dirty-melissa",
   "metadata": {
    "execution": {
     "iopub.execute_input": "2021-06-27T18:30:35.972312Z",
     "iopub.status.busy": "2021-06-27T18:30:35.970469Z",
     "iopub.status.idle": "2021-06-27T18:30:36.318790Z",
     "shell.execute_reply": "2021-06-27T18:30:36.319359Z",
     "shell.execute_reply.started": "2021-06-26T17:33:48.963793Z"
    },
    "id": "kjwBzuKaobfC",
    "outputId": "5bf3bbc7-ecdc-4a62-93ba-7e64c953d23b",
    "papermill": {
     "duration": 0.390557,
     "end_time": "2021-06-27T18:30:36.319573",
     "exception": false,
     "start_time": "2021-06-27T18:30:35.929016",
     "status": "completed"
    },
    "tags": []
   },
   "outputs": [
    {
     "name": "stdout",
     "output_type": "stream",
     "text": [
      "5.750637266625328\n"
     ]
    }
   ],
   "source": [
    "from lightgbm import LGBMRegressor\n",
    "lgbm=LGBMRegressor()\n",
    "lgbm.fit(X_train,Y_train)\n",
    "pred6=lgbm.predict(X_test)\n",
    "mseh[6]=mean_squared_error(Y_test,pred6)**0.5\n",
    "print(mseh[6])"
   ]
  },
  {
   "cell_type": "markdown",
   "id": "interested-approach",
   "metadata": {
    "id": "6P0cC9Pyavbi",
    "papermill": {
     "duration": 0.035124,
     "end_time": "2021-06-27T18:30:36.392290",
     "exception": false,
     "start_time": "2021-06-27T18:30:36.357166",
     "status": "completed"
    },
    "tags": []
   },
   "source": [
    "## 8. Naive Bayes (Bayesian Ridge) with One Hot Encoding"
   ]
  },
  {
   "cell_type": "code",
   "execution_count": 23,
   "id": "earlier-curve",
   "metadata": {
    "execution": {
     "iopub.execute_input": "2021-06-27T18:30:36.470480Z",
     "iopub.status.busy": "2021-06-27T18:30:36.469805Z",
     "iopub.status.idle": "2021-06-27T18:30:36.918157Z",
     "shell.execute_reply": "2021-06-27T18:30:36.919121Z",
     "shell.execute_reply.started": "2021-06-26T17:33:49.325365Z"
    },
    "id": "rLf7uyEgbCf-",
    "outputId": "81357d9a-1971-4f39-a4a8-50f88aa0f646",
    "papermill": {
     "duration": 0.491554,
     "end_time": "2021-06-27T18:30:36.919378",
     "exception": false,
     "start_time": "2021-06-27T18:30:36.427824",
     "status": "completed"
    },
    "tags": []
   },
   "outputs": [
    {
     "name": "stdout",
     "output_type": "stream",
     "text": [
      "6.304183848172252\n"
     ]
    }
   ],
   "source": [
    "from sklearn.linear_model import BayesianRidge\n",
    "bayreg=BayesianRidge()\n",
    "bayreg.fit(X_train,Y_train)\n",
    "pred7=bayreg.predict(X_test)\n",
    "mseh[7]=mean_squared_error(Y_test,pred7)**0.5\n",
    "print(mseh[7])"
   ]
  },
  {
   "cell_type": "code",
   "execution_count": 24,
   "id": "nearby-exchange",
   "metadata": {
    "execution": {
     "iopub.execute_input": "2021-06-27T18:30:37.090565Z",
     "iopub.status.busy": "2021-06-27T18:30:37.089482Z",
     "iopub.status.idle": "2021-06-27T18:30:37.284210Z",
     "shell.execute_reply": "2021-06-27T18:30:37.283271Z",
     "shell.execute_reply.started": "2021-06-26T17:33:49.797172Z"
    },
    "id": "nQaJv9F6KNEb",
    "outputId": "254f719b-344c-4f8d-e4f7-9734b3968673",
    "papermill": {
     "duration": 0.262344,
     "end_time": "2021-06-27T18:30:37.284358",
     "exception": false,
     "start_time": "2021-06-27T18:30:37.022014",
     "status": "completed"
    },
    "tags": []
   },
   "outputs": [
    {
     "name": "stdout",
     "output_type": "stream",
     "text": [
      "LR : Linear Regression\n",
      "RR : Ridge Regression\n",
      "LSR : Lasso Regression\n",
      "KNNR : KNN Regression\n",
      "SVR : Support Vector Regression\n",
      "RFR : Random forest regression\n",
      "LGBM : Light GBM\n",
      "NBR : Naive Bayes\n"
     ]
    },
    {
     "data": {
      "image/png": "[encoded data removed]",
      "text/plain": [
       "<Figure size 432x288 with 1 Axes>"
      ]
     },
     "metadata": {
      "needs_background": "light"
     },
     "output_type": "display_data"
    }
   ],
   "source": [
    "import matplotlib.pyplot as plt\n",
    "models=[\"Linear Regression\",\"Ridge Regression\",\"Lasso Regression\",\"KNN Regression\",\"Support Vector Regression\",\"Random forest regression\",\"Light GBM\",\"Naive Bayes\"]\n",
    "mod1=[\"LR\",\"RR\",\"LSR\",\"KNNR\",\"SVR\",\"RFR\",\"LGBM\",\"NBR\"]\n",
    "plt.plot(mod1,msel)\n",
    "plt.plot(mod1,mseh,'r')\n",
    "plt.legend([\"Label Encoding\",\"One Hot Encoding\"])\n",
    "for i in range(8) :\n",
    "  print(mod1[i],\":\",models[i])\n",
    "plt.show()"
   ]
  },
  {
   "cell_type": "markdown",
   "id": "quick-spank",
   "metadata": {
    "id": "1zZf6a_HPWMY",
    "papermill": {
     "duration": 0.037258,
     "end_time": "2021-06-27T18:30:37.360093",
     "exception": false,
     "start_time": "2021-06-27T18:30:37.322835",
     "status": "completed"
    },
    "tags": []
   },
   "source": [
    "So I have used the shuffle option on the dataset which shuffles the data everytime we run the code. So generally One Hot encoded models work better and out of them the random forest regressor gives least error but sometimes Light GBM tree trumps it.\n",
    "\n"
   ]
  }
 ],
 "metadata": {
  "kernelspec": {
   "display_name": "Python 3",
   "language": "python",
   "name": "python3"
  },
  "language_info": {
   "codemirror_mode": {
    "name": "ipython",
    "version": 3
   },
   "file_extension": ".py",
   "mimetype": "text/x-python",
   "name": "python",
   "nbconvert_exporter": "python",
   "pygments_lexer": "ipython3",
   "version": "3.7.10"
  },
  "papermill": {
   "default_parameters": {},
   "duration": 317.892475,
   "end_time": "2021-06-27T18:30:38.208181",
   "environment_variables": {},
   "exception": null,
   "input_path": "__notebook__.ipynb",
   "output_path": "__notebook__.ipynb",
   "parameters": {},
   "start_time": "2021-06-27T18:25:20.315706",
   "version": "2.3.3"
  }
 },
 "nbformat": 4,
 "nbformat_minor": 5
}
