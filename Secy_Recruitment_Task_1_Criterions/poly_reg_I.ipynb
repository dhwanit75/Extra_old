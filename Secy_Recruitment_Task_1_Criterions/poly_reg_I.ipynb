{
  "nbformat": 4,
  "nbformat_minor": 0,
  "metadata": {
    "colab": {
      "name": "poly_reg_I.ipynb",
      "provenance": []
    },
    "kernelspec": {
      "display_name": "Python 3",
      "name": "python3"
    },
    "language_info": {
      "name": "python"
    }
  },
  "cells": [
    {
      "cell_type": "code",
      "metadata": {
        "id": "t8nv6xsX9oYa"
      },
      "source": [
        "import numpy as np"
      ],
      "execution_count": null,
      "outputs": []
    },
    {
      "cell_type": "code",
      "metadata": {
        "id": "q17ifhCa9wG9"
      },
      "source": [
        "X=np.random.rand(100,1)\n",
        "Y=3+4*X+8*(X**2)+np.random.rand(100,1)"
      ],
      "execution_count": null,
      "outputs": []
    },
    {
      "cell_type": "code",
      "metadata": {
        "colab": {
          "base_uri": "https://localhost:8080/",
          "height": 283
        },
        "id": "PBC83Sol-Gco",
        "outputId": "d7120028-62c7-4a2d-d6fb-67c87fdaffc4"
      },
      "source": [
        "import matplotlib.pyplot as plt\n",
        "plt.plot(X,Y,'ro')"
      ],
      "execution_count": null,
      "outputs": [
        {
          "output_type": "execute_result",
          "data": {
            "text/plain": [
              "[<matplotlib.lines.Line2D at 0x7fe74f719a10>]"
            ]
          },
          "metadata": {},
          "execution_count": 3
        },
        {
          "output_type": "display_data",
          "data": {
            "image/png": "[encoded data removed]",
            "text/plain": [
              "<Figure size 432x288 with 1 Axes>"
            ]
          },
          "metadata": {
            "needs_background": "light"
          }
        }
      ]
    },
    {
      "cell_type": "code",
      "metadata": {
        "colab": {
          "base_uri": "https://localhost:8080/"
        },
        "id": "SS1aEAYU-N55",
        "outputId": "7640af7b-784d-4e59-d726-6e0413ae2837"
      },
      "source": [
        "w0=0\n",
        "w1=0\n",
        "w2=0\n",
        "m=len(X)\n",
        "L=0.001\n",
        "epochs=10000\n",
        "for i in range(epochs):\n",
        "  ypred=w0+w1*X+w2*(X*X)\n",
        "  dw2=(-4/m)*np.sum((X*X)*np.power((Y-ypred),3))\n",
        "  dw1=(-4/m)*np.sum(X*np.power((Y-ypred),3))\n",
        "  dw0=(-4/m)*np.sum(np.power((Y-ypred),3))\n",
        "  w2=w2-L*dw2\n",
        "  w1=w1-dw1*L\n",
        "  w0=w0-dw0*L\n",
        "\n",
        "\n",
        "print(w0,w1,w2)"
      ],
      "execution_count": null,
      "outputs": [
        {
          "output_type": "stream",
          "text": [
            "3.3087154561557983 5.858161034471316 5.88163081046007\n"
          ],
          "name": "stdout"
        }
      ]
    },
    {
      "cell_type": "code",
      "metadata": {
        "colab": {
          "base_uri": "https://localhost:8080/",
          "height": 283
        },
        "id": "d92D_RgaAfCb",
        "outputId": "4c221707-aac6-4e42-93d8-7f1c96e828f1"
      },
      "source": [
        "pred=w0+w1*X+w2*(X*X)\n",
        "plt.plot(X,pred,'bo')\n",
        "plt.plot(X,Y,'ro')"
      ],
      "execution_count": null,
      "outputs": [
        {
          "output_type": "execute_result",
          "data": {
            "text/plain": [
              "[<matplotlib.lines.Line2D at 0x7fe74f1ffe50>]"
            ]
          },
          "metadata": {},
          "execution_count": 5
        },
        {
          "output_type": "display_data",
          "data": {
            "image/png": "[encoded data removed]",
            "text/plain": [
              "<Figure size 432x288 with 1 Axes>"
            ]
          },
          "metadata": {
            "needs_background": "light"
          }
        }
      ]
    },
    {
      "cell_type": "code",
      "metadata": {
        "id": "exm-uEw85qLz"
      },
      "source": [
        ""
      ],
      "execution_count": null,
      "outputs": []
    }
  ]
}