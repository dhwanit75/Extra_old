{
  "nbformat": 4,
  "nbformat_minor": 0,
  "metadata": {
    "accelerator": "GPU",
    "colab": {
      "name": "Linear_reg_I",
      "provenance": []
    },
    "kernelspec": {
      "display_name": "Python 3",
      "name": "python3"
    },
    "language_info": {
      "name": "python"
    }
  },
  "cells": [
    {
      "cell_type": "code",
      "metadata": {
        "id": "CsrNlSm0vW73"
      },
      "source": [
        "import numpy as np\n"
      ],
      "execution_count": null,
      "outputs": []
    },
    {
      "cell_type": "code",
      "metadata": {
        "id": "_XAEu009rfzP"
      },
      "source": [
        "X=np.random.rand(100,1)\n",
        "Y=2 + 4*X + np.random.rand(100,1)"
      ],
      "execution_count": null,
      "outputs": []
    },
    {
      "cell_type": "code",
      "metadata": {
        "colab": {
          "base_uri": "https://localhost:8080/",
          "height": 283
        },
        "id": "bu6oIgAEvU_D",
        "outputId": "7047b898-0aa1-4000-c6eb-96f5201528d1"
      },
      "source": [
        "import matplotlib.pyplot as plt\n",
        "plt.plot(X,Y,'ro')"
      ],
      "execution_count": null,
      "outputs": [
        {
          "output_type": "execute_result",
          "data": {
            "text/plain": [
              "[<matplotlib.lines.Line2D at 0x7ff01929b790>]"
            ]
          },
          "metadata": {},
          "execution_count": 3
        },
        {
          "output_type": "display_data",
          "data": {
            "image/png": "[encoded data removed]",
            "text/plain": [
              "<Figure size 432x288 with 1 Axes>"
            ]
          },
          "metadata": {
            "needs_background": "light"
          }
        }
      ]
    },
    {
      "cell_type": "code",
      "metadata": {
        "colab": {
          "base_uri": "https://localhost:8080/"
        },
        "id": "FSq-CeU-0GtE",
        "outputId": "e477365b-fc36-4e7f-f31f-cb9f12f27b60"
      },
      "source": [
        "w1=0\n",
        "w0=0\n",
        "m=len(X)\n",
        "learning_rt=0.000001\n",
        "epochs=1000000\n",
        "np.seterr(over='print')\n",
        "for i in range(epochs):\n",
        "  Ypred=w1*X+w0\n",
        "  dw1=(-3)*np.sum((X/m)*np.square((Y-Ypred))) \n",
        "  dw0=(-3)*np.sum(np.square((Y-Ypred))/m)\n",
        "  w1=w1-learning_rt*dw1\n",
        "  w0=w0-learning_rt*dw0\n",
        "  \n",
        "print(w0,w1)"
      ],
      "execution_count": null,
      "outputs": [
        {
          "output_type": "stream",
          "text": [
            "4.076026733745882 2.4576688505126345\n"
          ],
          "name": "stdout"
        }
      ]
    },
    {
      "cell_type": "code",
      "metadata": {
        "colab": {
          "base_uri": "https://localhost:8080/"
        },
        "id": "TWM_wb936vOT",
        "outputId": "bc944e7e-b6bd-4cac-aacf-037cdb938f8a"
      },
      "source": [
        "pred=w1*X+w0\n",
        "plt.plot(X,pred,'bo')\n",
        "plt.plot(X,Y,'ro')"
      ],
      "execution_count": null,
      "outputs": [
        {
          "output_type": "execute_result",
          "data": {
            "text/plain": [
              "[<matplotlib.lines.Line2D at 0x7ff018d8e7d0>]"
            ]
          },
          "metadata": {},
          "execution_count": 5
        },
        {
          "output_type": "display_data",
          "data": {
            "image/png": "[encoded data removed]",
            "text/plain": [
              "<Figure size 432x288 with 1 Axes>"
            ]
          },
          "metadata": {
            "needs_background": "light"
          }
        }
      ]
    }
  ]
}