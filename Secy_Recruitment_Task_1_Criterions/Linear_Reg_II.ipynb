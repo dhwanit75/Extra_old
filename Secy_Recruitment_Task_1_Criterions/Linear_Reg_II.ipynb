{
  "nbformat": 4,
  "nbformat_minor": 0,
  "metadata": {
    "accelerator": "GPU",
    "colab": {
      "name": "Linear_Reg_II",
      "provenance": []
    },
    "kernelspec": {
      "display_name": "Python 3",
      "name": "python3"
    },
    "language_info": {
      "name": "python"
    }
  },
  "cells": [
    {
      "cell_type": "code",
      "metadata": {
        "id": "CsrNlSm0vW73"
      },
      "source": [
        "import numpy as np\n"
      ],
      "execution_count": null,
      "outputs": []
    },
    {
      "cell_type": "code",
      "metadata": {
        "id": "_XAEu009rfzP"
      },
      "source": [
        "X=np.random.rand(100,1)\n",
        "Y=2 + 4*X + np.random.rand(100,1)"
      ],
      "execution_count": null,
      "outputs": []
    },
    {
      "cell_type": "code",
      "metadata": {
        "colab": {
          "base_uri": "https://localhost:8080/",
          "height": 287
        },
        "id": "bu6oIgAEvU_D",
        "outputId": "db0cec8f-3313-4ce2-af47-cffc70bb4b65"
      },
      "source": [
        "import matplotlib.pyplot as plt\n",
        "plt.plot(X,Y,'ro')"
      ],
      "execution_count": null,
      "outputs": [
        {
          "output_type": "execute_result",
          "data": {
            "text/plain": [
              "[<matplotlib.lines.Line2D at 0x7fd7027f4490>]"
            ]
          },
          "metadata": {},
          "execution_count": 3
        },
        {
          "output_type": "display_data",
          "data": {
            "image/png": "[encoded data removed]",
            "text/plain": [
              "<Figure size 432x288 with 1 Axes>"
            ]
          },
          "metadata": {
            "needs_background": "light"
          }
        }
      ]
    },
    {
      "cell_type": "code",
      "metadata": {
        "colab": {
          "base_uri": "https://localhost:8080/"
        },
        "id": "GSJQxcmbwrdR",
        "outputId": "71115ce4-0ceb-4ca9-9b53-a65d4f7aa334"
      },
      "source": [
        "w1=0\n",
        "w0=0\n",
        "m=len(X)\n",
        "learning_rt=0.01\n",
        "epochs=10000\n",
        "\n",
        "for i in range(epochs):\n",
        "  Ypred=w1*X+w0\n",
        "  dw1=(-1/m)*sum(X*(Y-Ypred)) \n",
        "  dw0=(-1/m)*sum((Y-Ypred))\n",
        "  w1=w1-learning_rt*dw1\n",
        "  w0=w0-learning_rt*dw0\n",
        "\n",
        "print(w0,w1)"
      ],
      "execution_count": null,
      "outputs": [
        {
          "output_type": "stream",
          "text": [
            "[2.51260586] [4.02729411]\n"
          ],
          "name": "stdout"
        }
      ]
    },
    {
      "cell_type": "code",
      "metadata": {
        "colab": {
          "base_uri": "https://localhost:8080/",
          "height": 287
        },
        "id": "WYhXOXGSzpRx",
        "outputId": "8a1b27d3-1b89-486c-a588-170683e0e67c"
      },
      "source": [
        "pred=w1*X+w0\n",
        "plt.plot(X,pred,'bo')\n",
        "plt.plot(X,Y,'ro')"
      ],
      "execution_count": null,
      "outputs": [
        {
          "output_type": "execute_result",
          "data": {
            "text/plain": [
              "[<matplotlib.lines.Line2D at 0x7fd7022e93d0>]"
            ]
          },
          "metadata": {},
          "execution_count": 5
        },
        {
          "output_type": "display_data",
          "data": {
            "image/png": "[encoded data removed]",
            "text/plain": [
              "<Figure size 432x288 with 1 Axes>"
            ]
          },
          "metadata": {
            "needs_background": "light"
          }
        }
      ]
    },
    {
      "cell_type": "code",
      "metadata": {
        "id": "Or817u-c9A6f"
      },
      "source": [
        ""
      ],
      "execution_count": null,
      "outputs": []
    }
  ]
}