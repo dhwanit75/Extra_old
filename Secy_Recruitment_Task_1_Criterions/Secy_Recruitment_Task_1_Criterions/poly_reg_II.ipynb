{
  "nbformat": 4,
  "nbformat_minor": 0,
  "metadata": {
    "colab": {
      "name": "poly_reg_II.ipynb",
      "provenance": []
    },
    "kernelspec": {
      "display_name": "Python 3",
      "name": "python3"
    },
    "language_info": {
      "name": "python"
    }
  },
  "cells": [
    {
      "cell_type": "code",
      "metadata": {
        "id": "t8nv6xsX9oYa"
      },
      "source": [
        "import numpy as np"
      ],
      "execution_count": null,
      "outputs": []
    },
    {
      "cell_type": "code",
      "metadata": {
        "id": "q17ifhCa9wG9"
      },
      "source": [
        "X=np.random.rand(100,1)\n",
        "Y=3+4*X+8*(X**2)+np.random.rand(100,1)"
      ],
      "execution_count": null,
      "outputs": []
    },
    {
      "cell_type": "code",
      "metadata": {
        "colab": {
          "base_uri": "https://localhost:8080/",
          "height": 285
        },
        "id": "PBC83Sol-Gco",
        "outputId": "523ae865-3704-4c5e-c12d-4a53cb11bbbd"
      },
      "source": [
        "import matplotlib.pyplot as plt\n",
        "plt.plot(X,Y,'ro')"
      ],
      "execution_count": null,
      "outputs": [
        {
          "output_type": "execute_result",
          "data": {
            "text/plain": [
              "[<matplotlib.lines.Line2D at 0x7ff6417cd050>]"
            ]
          },
          "metadata": {},
          "execution_count": 3
        },
        {
          "output_type": "display_data",
          "data": {
            "image/png": "[encoded data removed]",
            "text/plain": [
              "<Figure size 432x288 with 1 Axes>"
            ]
          },
          "metadata": {
            "needs_background": "light"
          }
        }
      ]
    },
    {
      "cell_type": "code",
      "metadata": {
        "colab": {
          "base_uri": "https://localhost:8080/"
        },
        "id": "a9K3eYbeCHR4",
        "outputId": "08e66517-b7e8-4d58-df29-9f8ae445cce3"
      },
      "source": [
        "w0=0\n",
        "w1=0\n",
        "w2=0\n",
        "m=len(X)\n",
        "L=0.000000001\n",
        "epochs=1000000\n",
        "\n",
        "for i in range(epochs):\n",
        "  ypred=w0+w1*X+w2*(X*X)\n",
        "  dw2=(-7)*np.sum((X*X/m)*np.power((Y-ypred),6))\n",
        "  dw1=(-7)*np.sum((X/m)*np.power((Y-ypred),6))\n",
        "  dw0=(-7)*np.sum(np.power((Y-ypred),6)/m)\n",
        "  w2=w2-L*dw2\n",
        "  w1=w1-dw1*L\n",
        "  w0=w0-dw0*L\n",
        "  \n",
        " \n",
        "print(w0,w1,w2)"
      ],
      "execution_count": null,
      "outputs": [
        {
          "output_type": "stream",
          "text": [
            "4.652520293495801 4.202185460837135 3.83635696087703\n"
          ],
          "name": "stdout"
        }
      ]
    },
    {
      "cell_type": "code",
      "metadata": {
        "colab": {
          "base_uri": "https://localhost:8080/",
          "height": 285
        },
        "id": "zpJ2JZoCGc4-",
        "outputId": "1e632667-a50c-4ecc-adc0-b0bd3290b7a8"
      },
      "source": [
        "pred=w0+w1*X+w2*(X*X)\n",
        "plt.plot(X,pred,'bo')\n",
        "plt.plot(X,Y,'ro')"
      ],
      "execution_count": null,
      "outputs": [
        {
          "output_type": "execute_result",
          "data": {
            "text/plain": [
              "[<matplotlib.lines.Line2D at 0x7ff6412ca210>]"
            ]
          },
          "metadata": {},
          "execution_count": 5
        },
        {
          "output_type": "display_data",
          "data": {
            "image/png": "[encoded data removed]",
            "text/plain": [
              "<Figure size 432x288 with 1 Axes>"
            ]
          },
          "metadata": {
            "needs_background": "light"
          }
        }
      ]
    },
    {
      "cell_type": "code",
      "metadata": {
        "id": "G_OpD9eTH2QL"
      },
      "source": [
        ""
      ],
      "execution_count": null,
      "outputs": []
    }
  ]
}